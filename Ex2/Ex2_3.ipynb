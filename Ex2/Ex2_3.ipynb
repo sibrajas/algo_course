{
 "cells": [
  {
   "cell_type": "markdown",
   "metadata": {},
   "source": [
    "Use the median of first last and middle elements to fix the pivot"
   ]
  },
  {
   "cell_type": "code",
   "execution_count": 9,
   "metadata": {
    "collapsed": false
   },
   "outputs": [
    {
     "name": "stdout",
     "output_type": "stream",
     "text": [
      "138382\n"
     ]
    }
   ],
   "source": [
    "import numpy as np\n",
    "import scipy as sp\n",
    "import matplotlib.pyplot as plt\n",
    "def swap(array,ind1,ind2):\n",
    "    temp=array[ind1]\n",
    "    array[ind1]=array[ind2]\n",
    "    array[ind2]=temp\n",
    "def partition(array,left,right):\n",
    "    if left>right:\n",
    "        return\n",
    "    pivot=array[left]\n",
    "    #print \"Pivot is \"+str(pivot)\n",
    "    pivotindex=left\n",
    "    i=j=left+1\n",
    "    while (j<=right):\n",
    "        if array[j]<=pivot:\n",
    "            swap(array,i,j)\n",
    "            i+=1\n",
    "        j+=1\n",
    "    #print left,right\n",
    "    swap(array,pivotindex,i-1)\n",
    "    return i-1\n",
    "def MedianOfThree(arr, left, right):\n",
    "    mid = (left + right)/2\n",
    "    if arr[right] < arr[left]:\n",
    "        swap(arr, left, right)        \n",
    "    if arr[mid] < arr[left]:\n",
    "        swap(arr, mid, left)\n",
    "    if arr[right] < arr[mid]:\n",
    "        swap(arr, right, mid)\n",
    "    return mid\n",
    "def MedianOfThreeNoSwap(arr, left, right):\n",
    "    mid = (left + right)/2\n",
    "    a=arr[left]\n",
    "    b=arr[mid]\n",
    "    c=arr[right]\n",
    "    if a < b:\n",
    "        if b < c:\n",
    "            return mid\n",
    "        if a < c:\n",
    "            return right\n",
    "        return left\n",
    "    else:\n",
    "        if a < c:\n",
    "            return left\n",
    "        if b < c:\n",
    "            return right\n",
    "        return mid\n",
    "def qsort(array,left,right):\n",
    "    if left<right:\n",
    "        medidx=MedianOfThreeNoSwap(array,left,right)\n",
    "        swap(array,left,medidx)\n",
    "        newpivot=partition(array,left,right)\n",
    "        lcomp=qsort(array,left,newpivot-1)\n",
    "        rcomp=qsort(array,newpivot+1,right)\n",
    "        return lcomp+rcomp+right-left\n",
    "    else:\n",
    "        return 0\n",
    "if __name__=='__main__':\n",
    "    f=open(\"QuickSort.txt\")\n",
    "    x=[8,10,4,1,11,2]\n",
    "    x=map(int,f.readlines())\n",
    "    comp=qsort(x,0,len(x)-1)\n",
    "    for i in range(len(x)-1):\n",
    "        if x[i]>x[i+1]:\n",
    "            print \"false\"\n",
    "            break\n",
    "    print comp\n",
    "    "
   ]
  }
 ],
 "metadata": {
  "kernelspec": {
   "display_name": "Python 2",
   "language": "python",
   "name": "python2"
  },
  "language_info": {
   "codemirror_mode": {
    "name": "ipython",
    "version": 2
   },
   "file_extension": ".py",
   "mimetype": "text/x-python",
   "name": "python",
   "nbconvert_exporter": "python",
   "pygments_lexer": "ipython2",
   "version": "2.7.10"
  }
 },
 "nbformat": 4,
 "nbformat_minor": 0
}
