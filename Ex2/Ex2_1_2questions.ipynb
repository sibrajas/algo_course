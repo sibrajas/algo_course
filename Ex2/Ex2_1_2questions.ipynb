{
 "cells": [
  {
   "cell_type": "markdown",
   "metadata": {},
   "source": [
    "Quick sort and number of comparisons - first element as pivot"
   ]
  },
  {
   "cell_type": "code",
   "execution_count": 1,
   "metadata": {
    "collapsed": false
   },
   "outputs": [
    {
     "name": "stdout",
     "output_type": "stream",
     "text": [
      "162085\n"
     ]
    }
   ],
   "source": [
    "import numpy as np\n",
    "import scipy as sp\n",
    "import matplotlib.pyplot as plt\n",
    "def swap(array,ind1,ind2):\n",
    "    temp=array[ind1]\n",
    "    array[ind1]=array[ind2]\n",
    "    array[ind2]=temp\n",
    "def partition(array,left,right):\n",
    "    if left>=right:\n",
    "        return\n",
    "    pivot=array[left]\n",
    "    #print \"Pivot is \"+str(pivot)\n",
    "    pivotindex=left\n",
    "    i=j=left+1\n",
    "    while (j<=right):\n",
    "        if array[j]<=pivot:\n",
    "            swap(array,i,j)\n",
    "            i+=1\n",
    "        j+=1\n",
    "    #print left,right\n",
    "    swap(array,pivotindex,i-1)\n",
    "    return i-1\n",
    "    \n",
    "def qsort(array,left,right,ncomp):\n",
    "    if left<right:\n",
    "        newpivot=partition(array,left,right)\n",
    "        lcomp=qsort(array,left,newpivot-1,ncomp)\n",
    "        rcomp=qsort(array,newpivot+1,right,ncomp)\n",
    "        return lcomp+rcomp+right-left\n",
    "    else:\n",
    "        return 0\n",
    "if __name__=='__main__':\n",
    "    f=open(\"QuickSort.txt\")\n",
    "    x=[8,10,4,1,11,2]\n",
    "    ncomp=0\n",
    "    x=map(int,f.readlines())\n",
    "    #print x\n",
    "    #print type(x)\n",
    "    comp=qsort(x,0,len(x)-1,ncomp)\n",
    "    #print x\n",
    "    for i in range(len(x)-1):\n",
    "        if x[i]>x[i+1]:\n",
    "            print \"false\"\n",
    "    print comp\n",
    "    #print x[-1]"
   ]
  },
  {
   "cell_type": "markdown",
   "metadata": {},
   "source": [
    "Quick sort and number of comparisons - last element as pivot"
   ]
  },
  {
   "cell_type": "code",
   "execution_count": 21,
   "metadata": {
    "collapsed": false
   },
   "outputs": [
    {
     "name": "stdout",
     "output_type": "stream",
     "text": [
      "164123\n"
     ]
    }
   ],
   "source": [
    "import numpy as np\n",
    "import scipy as sp\n",
    "import matplotlib.pyplot as plt\n",
    "def swap(array,ind1,ind2):\n",
    "    temp=array[ind1]\n",
    "    array[ind1]=array[ind2]\n",
    "    array[ind2]=temp\n",
    "def partition(array,left,right):\n",
    "    if left>=right:\n",
    "        return\n",
    "    pivot=array[left]\n",
    "    #print \"Pivot is \"+str(pivot)\n",
    "    pivotindex=left\n",
    "    i=j=left+1\n",
    "    while (j<=right):\n",
    "        if array[j]<=pivot:\n",
    "            swap(array,i,j)\n",
    "            i+=1\n",
    "        j+=1\n",
    "    #print left,right\n",
    "    swap(array,pivotindex,i-1)\n",
    "    return i-1\n",
    "    \n",
    "def median(array,left,right,arrlength):\n",
    "    median_pivot=partition(array,left,right)\n",
    "    if median_pivot<(arrlength/2):\n",
    "        median(array,median_pivot+1,right,arrlength)\n",
    "    elif median_pivot>(arrlength/2):\n",
    "        median(array,left,median_pivot-1,arrlength)\n",
    "    else:\n",
    "        return [median_pivot,array[median_pivot]]\n",
    "\n",
    "#Swap the last element with the first before calling partition subroutine\n",
    "def qsort(array,left,right):\n",
    "    if left<right:\n",
    "        swap(array,left,right)\n",
    "        newpivot=partition(array,left,right)\n",
    "        lcomp=qsort(array,left,newpivot-1)\n",
    "        rcomp=qsort(array,newpivot+1,right)\n",
    "        return lcomp+rcomp+right-left\n",
    "    else:\n",
    "        return 0\n",
    "if __name__=='__main__':\n",
    "    f=open(\"QuickSort.txt\")\n",
    "    x=[8,10,4,1,11,3]\n",
    "   \n",
    "    ncomp=0\n",
    "    x=map(int,f.readlines())\n",
    "    #print x\n",
    "    comp=qsort(x,0,len(x)-1)\n",
    "    #print x\n",
    "    for i in range(len(x)-1):\n",
    "        if x[i]>x[i+1]:\n",
    "            print \"false\"\n",
    "    print comp\n",
    "    #print x[-1]"
   ]
  },
  {
   "cell_type": "markdown",
   "metadata": {},
   "source": [
    "Use the median of first last and middle elements to fix the pivot"
   ]
  },
  {
   "cell_type": "code",
   "execution_count": 40,
   "metadata": {
    "collapsed": false
   },
   "outputs": [
    {
     "name": "stdout",
     "output_type": "stream",
     "text": [
      "137842\n"
     ]
    }
   ],
   "source": [
    "import numpy as np\n",
    "import scipy as sp\n",
    "import matplotlib.pyplot as plt\n",
    "def swap(array,ind1,ind2):\n",
    "    temp=array[ind1]\n",
    "    array[ind1]=array[ind2]\n",
    "    array[ind2]=temp\n",
    "def partition(array,left,right):\n",
    "    if left>=right:\n",
    "        return\n",
    "    pivot=array[left]\n",
    "    #print \"Pivot is \"+str(pivot)\n",
    "    pivotindex=left\n",
    "    i=j=left+1\n",
    "    while (j<=right):\n",
    "        if array[j]<=pivot:\n",
    "            swap(array,i,j)\n",
    "            i+=1\n",
    "        j+=1\n",
    "    #print left,right\n",
    "    swap(array,pivotindex,i-1)\n",
    "    return i-1\n",
    "def MedianOfThree(arr, left, right):\n",
    "    mid = (left + right)/2\n",
    "    if arr[right] < arr[left]:\n",
    "        swap(arr, left, right)        \n",
    "    if arr[mid] < arr[left]:\n",
    "        swap(arr, mid, left)\n",
    "    if arr[right] < arr[mid]:\n",
    "        swap(arr, right, mid)\n",
    "    return mid\n",
    "def qsort(array,left,right,ncomp):\n",
    "    if left<right:\n",
    "        medidx=MedianOfThree(array,left,right)\n",
    "        swap(array,left,medidx)\n",
    "        #swap(array,left,left+1)\n",
    "        newpivot=partition(array,left,right)\n",
    "        lcomp=qsort(array,left,newpivot-1,ncomp)\n",
    "        rcomp=qsort(array,newpivot+1,right,ncomp)\n",
    "        return lcomp+rcomp+right-left\n",
    "    else:\n",
    "        return 0\n",
    "if __name__=='__main__':\n",
    "    f=open(\"QuickSort.txt\")\n",
    "    x=[8,10,4,1,11,2]\n",
    "    ncomp=0\n",
    "    x=map(int,f.readlines())\n",
    "    #print x\n",
    "    #print type(x)\n",
    "    comp=qsort(x,0,len(x)-1,ncomp)\n",
    "    #print x\n",
    "    for i in range(len(x)-1):\n",
    "        if x[i]>x[i+1]:\n",
    "            print \"false\"\n",
    "    print comp\n",
    "    #print x[-1]"
   ]
  },
  {
   "cell_type": "code",
   "execution_count": 28,
   "metadata": {
    "collapsed": false
   },
   "outputs": [
    {
     "name": "stdout",
     "output_type": "stream",
     "text": [
      "None\n"
     ]
    }
   ],
   "source": [
    "def swap(array,ind1,ind2):\n",
    "    temp=array[ind1]\n",
    "    array[ind1]=array[ind2]\n",
    "    array[ind2]=temp\n",
    "def partition(array,left,right):\n",
    "    if left>=right:\n",
    "        return\n",
    "    pivot=array[left]\n",
    "    #print \"Pivot is \"+str(pivot)\n",
    "    pivotindex=left\n",
    "    i=j=left+1\n",
    "    while (j<=right):\n",
    "        if array[j]<=pivot:\n",
    "            swap(array,i,j)\n",
    "            i+=1\n",
    "        j+=1\n",
    "    #print left,right\n",
    "    swap(array,pivotindex,i-1)\n",
    "    return i-1\n",
    "def median(array,left,right,arrlength):\n",
    "    if left<right:\n",
    "        if arrlength%2==0:\n",
    "            median_pivot=partition(array,left,right)\n",
    "            if median_pivot==(arrlength/2):\n",
    "                return [median_pivot-1,array[median_pivot-1]]\n",
    "            if median_pivot==(arrlength/2)-1:\n",
    "                return [median_pivot,array[median_pivot]]\n",
    "            if median_pivot<(arrlength/2)-1:\n",
    "                return median(array,median_pivot+1,right,arrlength)\n",
    "            elif median_pivot>(arrlength/2)-1:\n",
    "                return median(array,left,median_pivot-1,arrlength)\n",
    "        else:\n",
    "            median_pivot=partition(array,left,right)\n",
    "            if median_pivot==(arrlength/2):\n",
    "                return [median_pivot,array[median_pivot]]\n",
    "            if median_pivot<(arrlength/2)-1:\n",
    "                return median(array,median_pivot+1,right,arrlength)\n",
    "            elif median_pivot>(arrlength/2)-1:\n",
    "                return median(array,left,median_pivot-1,arrlength)\n",
    "def findkthsmallest(array,left,right,kth):\n",
    "    while 1:\n",
    "        pivotind=partition(array,left,right)\n",
    "        arrlen=pivotind-left+1\n",
    "        print kth,arrlen\n",
    "        if kth==arrlen:\n",
    "            return array[pivotind]\n",
    "        if kth<arrlen:\n",
    "            right=pivotind-1\n",
    "        else:\n",
    "            left=pivotind+1\n",
    "            kth=kth-arrlen\n",
    "def findmedian(array,left,right):\n",
    "    arrlen=len(array)\n",
    "    if arrlen%2==0:\n",
    "        kth=arrlen/2\n",
    "    else:\n",
    "        kth=(arrlen/2)+1\n",
    "    return findkthsmallest(array,left,right,kth)\n",
    "x=[0,6,2,4,1,5,7]\n",
    "#print findkthsmallest(x,0,len(x)-1,0)\n",
    "print median(x,0,len(x)-1,len(x))"
   ]
  },
  {
   "cell_type": "code",
   "execution_count": 97,
   "metadata": {
    "collapsed": false
   },
   "outputs": [
    {
     "name": "stdout",
     "output_type": "stream",
     "text": [
      "1\n"
     ]
    }
   ],
   "source": [
    "x=[2,1,5]\n",
    "np.median(x)\n",
    "print 3/2"
   ]
  }
 ],
 "metadata": {
  "kernelspec": {
   "display_name": "Python 2",
   "language": "python",
   "name": "python2"
  },
  "language_info": {
   "codemirror_mode": {
    "name": "ipython",
    "version": 2
   },
   "file_extension": ".py",
   "mimetype": "text/x-python",
   "name": "python",
   "nbconvert_exporter": "python",
   "pygments_lexer": "ipython2",
   "version": "2.7.10"
  }
 },
 "nbformat": 4,
 "nbformat_minor": 0
}
