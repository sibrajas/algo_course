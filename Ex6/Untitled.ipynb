{
 "cells": [
  {
   "cell_type": "code",
   "execution_count": 1,
   "metadata": {
    "collapsed": false
   },
   "outputs": [
    {
     "name": "stdout",
     "output_type": "stream",
     "text": [
      "471\n"
     ]
    }
   ],
   "source": [
    "maxInterval=10000\n",
    "if __name__==\"__main__\":\n",
    "    hashtab={}\n",
    "    with open('2sum_test1M.txt') as fd:\n",
    "        for line in fd:\n",
    "            line=line.strip()\n",
    "            value=int(line)\n",
    "            #print value\n",
    "            key=value/maxInterval\n",
    "            hashtab.setdefault(key,[]).append(value)\n",
    "            #print line\n",
    "    #print hashtab\n",
    "    totcount=0\n",
    "    resultsum={}\n",
    "    exploredInterval=[]\n",
    "    for key1 in hashtab.keys():\n",
    "        key2=[-key1-2,-key1-1,-key1]\n",
    "        for val1 in hashtab[key1]:\n",
    "            for key in key2:\n",
    "                #try:\n",
    "                if hashtab.has_key(key):\n",
    "                    for val2 in hashtab[key]:\n",
    "                        if val1+val2 in range(-maxInterval,maxInterval+1):\n",
    "                            if val1!=val2:\n",
    "                                resultsum.setdefault(val1+val2,[]).append([val1,val2])\n",
    "                #except KeyError:\n",
    "                    #continue\n",
    "                        \n",
    "    #for key in sorted(resultsum.keys()):\n",
    "        #print key\n",
    "    print len(resultsum)\n"
   ]
  },
  {
   "cell_type": "code",
   "execution_count": 3,
   "metadata": {
    "collapsed": false
   },
   "outputs": [
    {
     "name": "stdout",
     "output_type": "stream",
     "text": [
      "[8, 7, 9]\n",
      "set([(1, 5), (1, 4)])\n",
      "set([1, 2, 3, 4, 5, 6, 7, 8, 9])\n",
      "-2\n",
      "5400\n",
      "\n",
      "  2138\n",
      "\n",
      "Success\n",
      "   1344\n",
      "\n",
      "   5484\n",
      "\n",
      "   5048\n",
      "\n",
      "   4338\n",
      "\n",
      "   5078\n",
      "\n",
      "   7733\n",
      "\n",
      "   1692\n",
      "\n",
      "   9052\n",
      "\n",
      "   1779\n",
      "\n",
      "   8086\n",
      "\n",
      "   8299\n",
      "\n",
      "   6601\n",
      "\n",
      "   1115\n",
      "\n",
      "    735\n",
      "\n",
      "   3031\n",
      "\n",
      "    978\n",
      "\n",
      "    880\n",
      "\n",
      "   2132\n",
      "\n"
     ]
    }
   ],
   "source": [
    "-10501/10000\n",
    "key=7\n",
    "key1=[key+1,key,key+2]\n",
    "print key1\n",
    "if -4 in range(-3,10):\n",
    "    print 'yes'\n",
    "res=set()\n",
    "res.add((1,4))\n",
    "res.add((1,5))\n",
    "res.add((1,4))\n",
    "print res\n",
    "if 10 in set(range(1,10)):\n",
    "    print 'yes'\n",
    "print set(range(1,10))\n",
    "print -14000/10000\n",
    "with open('test20.txt') as fd:\n",
    "    print fd.readline()\n",
    "    print fd.readline()\n",
    "    print \"Success\"\n",
    "    for line in fd:\n",
    "        print line"
   ]
  }
 ],
 "metadata": {
  "kernelspec": {
   "display_name": "Python 2",
   "language": "python",
   "name": "python2"
  },
  "language_info": {
   "codemirror_mode": {
    "name": "ipython",
    "version": 2
   },
   "file_extension": ".py",
   "mimetype": "text/x-python",
   "name": "python",
   "nbconvert_exporter": "python",
   "pygments_lexer": "ipython2",
   "version": "2.7.10"
  }
 },
 "nbformat": 4,
 "nbformat_minor": 0
}
