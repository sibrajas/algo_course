{
 "cells": [
  {
   "cell_type": "code",
   "execution_count": 36,
   "metadata": {
    "collapsed": false,
    "scrolled": true
   },
   "outputs": [
    {
     "name": "stdout",
     "output_type": "stream",
     "text": [
      "73\n"
     ]
    }
   ],
   "source": [
    "if __name__==\"__main__\":\n",
    "    hashtab={}\n",
    "    with open(\"test.txt\") as fd:\n",
    "        for line in fd:\n",
    "            line=line.strip()\n",
    "            line=int(line)\n",
    "            hashtab[line]=1\n",
    "            #print line\n",
    "    #print hashtab\n",
    "    totcount=0\n",
    "    for t in range(-10000,10001):\n",
    "        #print t\n",
    "        #with open(\"test.txt\") as fd:\n",
    "            #for line in fd:\n",
    "                #line=int(line.strip())\n",
    "        for line in hashtab.keys():\n",
    "            try:\n",
    "                if t-line != line:\n",
    "                    if hashtab[t-line]:\n",
    "                        totcount+=1\n",
    "                        break\n",
    "                else:\n",
    "                    continue\n",
    "            except KeyError:\n",
    "                continue\n",
    "    print totcount        \n"
   ]
  },
  {
   "cell_type": "code",
   "execution_count": 28,
   "metadata": {
    "collapsed": false
   },
   "outputs": [
    {
     "name": "stdout",
     "output_type": "stream",
     "text": [
      "-60489726142\n",
      "-60489726142\n",
      "-60489726142\n",
      "-60489726142\n",
      "-60489726142\n"
     ]
    }
   ],
   "source": [
    "if __name__==\"__main__\":\n",
    "    hashtab={}\n",
    "    for i in range(5):\n",
    "        with open(\"test.txt\") as fd:\n",
    "            for line in fd:\n",
    "                line=line.strip()\n",
    "                line=int(line)\n",
    "                hashtab[line]=1\n",
    "                print line\n",
    "                break\n"
   ]
  },
  {
   "cell_type": "code",
   "execution_count": 15,
   "metadata": {
    "collapsed": false
   },
   "outputs": [
    {
     "name": "stdout",
     "output_type": "stream",
     "text": [
      "{-1: 10}\n"
     ]
    }
   ],
   "source": [
    "a={}\n",
    "a[-1]=10\n",
    "print a"
   ]
  },
  {
   "cell_type": "code",
   "execution_count": null,
   "metadata": {
    "collapsed": true
   },
   "outputs": [],
   "source": []
  }
 ],
 "metadata": {
  "kernelspec": {
   "display_name": "Python 2",
   "language": "python",
   "name": "python2"
  },
  "language_info": {
   "codemirror_mode": {
    "name": "ipython",
    "version": 2
   },
   "file_extension": ".py",
   "mimetype": "text/x-python",
   "name": "python",
   "nbconvert_exporter": "python",
   "pygments_lexer": "ipython2",
   "version": "2.7.10"
  }
 },
 "nbformat": 4,
 "nbformat_minor": 0
}
