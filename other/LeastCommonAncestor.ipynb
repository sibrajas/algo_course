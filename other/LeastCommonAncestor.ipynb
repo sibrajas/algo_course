{
 "cells": [
  {
   "cell_type": "code",
   "execution_count": 26,
   "metadata": {
    "collapsed": false
   },
   "outputs": [
    {
     "name": "stdout",
     "output_type": "stream",
     "text": [
      "None root 20\n",
      "20 left 8\n",
      "20 right 22\n",
      "8 left 4\n",
      "8 right 12\n",
      "12 left 10\n",
      "12 right 14\n",
      "1 1\n",
      "12\n"
     ]
    }
   ],
   "source": [
    "from Treenode import Treenode\n",
    "def search(root,n1):\n",
    "    if root.data==n1:\n",
    "        return 1\n",
    "    if n1<root.data:\n",
    "        if root.lchild:\n",
    "            return search(root.lchild,n1)\n",
    "        else:\n",
    "            return 0\n",
    "    else:\n",
    "        if root.rchild:\n",
    "            return search(root.rchild,n1)\n",
    "        else:\n",
    "            return 0\n",
    "    \n",
    "def lcautility(root,n1,n2):\n",
    "    if n1<n2:\n",
    "        return lca(root,n1,n2)\n",
    "    else:\n",
    "        return lca(root,n2,n1)\n",
    "def lca(root,n1,n2):\n",
    "    if n1<=root.data & n2>=root.data:\n",
    "        x=search(root,n1)\n",
    "        y=search(root,n2)\n",
    "        print x,y\n",
    "        if x&y:\n",
    "            return root\n",
    "        else:\n",
    "            print \"No element found\"\n",
    "            return None\n",
    "    if n2<=root.data:\n",
    "        return lca(root.lchild,n1,n2)\n",
    "    else:\n",
    "        return lca(root.rchild,n1,n2)\n",
    "    \n",
    "    \n",
    "if __name__=='__main__':\n",
    "    root=Treenode(20)\n",
    "    l=Treenode(8)\n",
    "    r=Treenode(22)\n",
    "    root.add_leftchild(l)\n",
    "    root.add_rightchild(r)\n",
    "    l1=Treenode(4)\n",
    "    r1=Treenode(12)\n",
    "    l.add_leftchild(l1)\n",
    "    l.add_rightchild(r1)\n",
    "    r1.add_leftchild(Treenode(10))\n",
    "    r1.add_rightchild(Treenode(14))\n",
    "    root.disp()\n",
    "    node=lcautility(root,12,12)\n",
    "    try:\n",
    "        print node.data\n",
    "    except AttributeError:\n",
    "        pass\n",
    "        \n",
    "\n"
   ]
  },
  {
   "cell_type": "code",
   "execution_count": null,
   "metadata": {
    "collapsed": true
   },
   "outputs": [],
   "source": []
  }
 ],
 "metadata": {
  "kernelspec": {
   "display_name": "Python 2",
   "language": "python",
   "name": "python2"
  },
  "language_info": {
   "codemirror_mode": {
    "name": "ipython",
    "version": 2
   },
   "file_extension": ".py",
   "mimetype": "text/x-python",
   "name": "python",
   "nbconvert_exporter": "python",
   "pygments_lexer": "ipython2",
   "version": "2.7.10"
  }
 },
 "nbformat": 4,
 "nbformat_minor": 0
}
