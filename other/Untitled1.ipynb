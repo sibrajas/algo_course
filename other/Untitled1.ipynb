{
 "cells": [
  {
   "cell_type": "markdown",
   "metadata": {},
   "source": [
    "Maximum Path Sum in a Binary Tree"
   ]
  },
  {
   "cell_type": "code",
   "execution_count": 78,
   "metadata": {
    "collapsed": false
   },
   "outputs": [
    {
     "name": "stdout",
     "output_type": "stream",
     "text": [
      "root 10\n",
      "left 2\n",
      "right 10\n",
      "left 20\n",
      "right 1\n",
      "right -25\n",
      "left 3\n",
      "right 4\n",
      "Result is \n",
      "42\n"
     ]
    }
   ],
   "source": [
    "class Treenode(object):\n",
    "    def __init__(self,data):\n",
    "        self.data=data\n",
    "        self.lchild=None\n",
    "        self.rchild=None\n",
    "    def add_leftchild(self,obj):\n",
    "        self.lchild=obj\n",
    "    def add_rightchild(self,obj):\n",
    "        self.rchild=obj\n",
    "    def disproot(self):\n",
    "        print self.data,\n",
    "        if self.lchild:\n",
    "            print self.lchild.data,\n",
    "        else:\n",
    "            print \" \",\n",
    "        if self.rchild:\n",
    "            print self.rchild.data\n",
    "        else:\n",
    "            print \" \"\n",
    "    def disp(self):\n",
    "        q=[]\n",
    "        explored=[]\n",
    "        q.append([\"root\",self])\n",
    "        explored.append(self)\n",
    "        while len(q)!=0:\n",
    "            pos,node=q.pop(0)\n",
    "            print pos,node.data\n",
    "            if node.lchild:\n",
    "                explored.append(node.lchild)\n",
    "                q.append([\"left\",node.lchild])\n",
    "            if node.rchild:\n",
    "                explored.append(node.rchild)\n",
    "                q.append([\"right\",node.rchild])\n",
    "    def maxsum(self,res):\n",
    "        if self==None:\n",
    "            return 0\n",
    "        else:\n",
    "            if self.lchild:\n",
    "                [lsum,res]=self.lchild.maxsum(res)\n",
    "            else:\n",
    "                lsum=0\n",
    "            if self.rchild:\n",
    "                [rsum,res]=self.rchild.maxsum(res)\n",
    "            else:\n",
    "                rsum=0\n",
    "            childsum=max(lsum,rsum)\n",
    "            subtreesum=max(childsum+self.data,self.data)\n",
    "            max_top=max(subtreesum,lsum+rsum+self.data)\n",
    "            res=max(res,max_top)\n",
    "            return [subtreesum,res]\n",
    "        \n",
    "            \n",
    "root=Treenode(10)\n",
    "l=Treenode(2)\n",
    "r=Treenode(10)\n",
    "r1=Treenode(1)\n",
    "l1=Treenode(20)\n",
    "r2=Treenode(-25)\n",
    "l3=Treenode(3)\n",
    "r3=Treenode(4)\n",
    "root.add_leftchild(l)\n",
    "root.add_rightchild(r)\n",
    "root.lchild.add_rightchild(r1)\n",
    "root.lchild.add_leftchild(l1)\n",
    "root.rchild.add_rightchild(r2)\n",
    "r2.add_leftchild(l3)\n",
    "r2.add_rightchild(r3)\n",
    "root.disp()\n",
    "print \"Result is \"\n",
    "[a,x]=root.maxsum(0)\n",
    "print x\n",
    "\n",
    "\n",
    "#root.rchild.disp()\n",
    "#root.lchild.disp()"
   ]
  },
  {
   "cell_type": "code",
   "execution_count": 6,
   "metadata": {
    "collapsed": false
   },
   "outputs": [
    {
     "name": "stdout",
     "output_type": "stream",
     "text": [
      "[<type 'int'>, 1, 2]\n"
     ]
    }
   ],
   "source": [
    "a=[int]\n",
    "a.append(1)\n",
    "a.append(2)\n",
    "print a"
   ]
  },
  {
   "cell_type": "code",
   "execution_count": 75,
   "metadata": {
    "collapsed": false
   },
   "outputs": [
    {
     "name": "stdout",
     "output_type": "stream",
     "text": [
      "[2, 3]\n"
     ]
    }
   ],
   "source": [
    "a=[1,2,3]\n",
    "a.pop(0)\n",
    "print a"
   ]
  }
 ],
 "metadata": {
  "kernelspec": {
   "display_name": "Python 2",
   "language": "python",
   "name": "python2"
  },
  "language_info": {
   "codemirror_mode": {
    "name": "ipython",
    "version": 2
   },
   "file_extension": ".py",
   "mimetype": "text/x-python",
   "name": "python",
   "nbconvert_exporter": "python",
   "pygments_lexer": "ipython2",
   "version": "2.7.10"
  }
 },
 "nbformat": 4,
 "nbformat_minor": 0
}
