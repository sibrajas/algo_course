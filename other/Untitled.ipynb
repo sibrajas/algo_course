{
 "cells": [
  {
   "cell_type": "code",
   "execution_count": 49,
   "metadata": {
    "collapsed": false
   },
   "outputs": [
    {
     "name": "stdout",
     "output_type": "stream",
     "text": [
      "4.0\n",
      "17\n",
      "<type 'int'>\n",
      "                        1   \n",
      "                     1   1   1   \n",
      "                  1   1   1   1   1   \n",
      "               1   1   1   1   1   1   1   \n",
      "            1   1   1   1   1   1   1   1   1   \n",
      "         1   1   1   1   1   1   1   1   1   1   1   \n",
      "      1   1   1   1   1   1   1   1   1   1   1   1   1   \n",
      "   1   1   1   1   1   1   1   1   1   1   1   1   1   1   1   \n",
      "1   1   1   1   1   1   1   1   1   1   1   1   1   1   1   1   1   \n",
      "  * * * * * * * * * * * * * * * \n",
      "    * * * * * * * * * * * * * \n",
      "      * * * * * * * * * * * \n",
      "        * * * * * * * * * \n",
      "          * * * * * * * \n",
      "            * * * * * \n",
      "              * * * \n",
      "                * \n"
     ]
    }
   ],
   "source": [
    "import math\n",
    "def drawheap(a):\n",
    "    n=len(a)\n",
    "    height=math.floor(math.log(n,2))\n",
    "    print height\n",
    "    leafmax=int(math.pow(2,height))\n",
    "    leafmax+=1\n",
    "    print leafmax\n",
    "    print type(leafmax)\n",
    "    print_diamond(0,leafmax,leafmax>>1,a,0)\n",
    "    \n",
    "def print_diamond(start, stop, midpoint,a,i):\n",
    "    if start < stop:\n",
    "        if start <= midpoint:\n",
    "            print('   ' * (midpoint - start) + (str(a[1])+\"   \") * ((start << 1) + 1))\n",
    "        else:\n",
    "            print('  ' * (start - midpoint) + '* ' * ((stop - start << 1) - 1))\n",
    "        print_diamond(start + 1, stop, midpoint,a,i)\n",
    "    \n",
    "a=[0,1,2,4,5,6,7,8,9,10,11,12,13,14,15,16]\n",
    "drawheap(a)\n",
    "#print_diamond(0,17,17>>1)"
   ]
  }
 ],
 "metadata": {
  "kernelspec": {
   "display_name": "Python 2",
   "language": "python",
   "name": "python2"
  },
  "language_info": {
   "codemirror_mode": {
    "name": "ipython",
    "version": 2
   },
   "file_extension": ".py",
   "mimetype": "text/x-python",
   "name": "python",
   "nbconvert_exporter": "python",
   "pygments_lexer": "ipython2",
   "version": "2.7.10"
  }
 },
 "nbformat": 4,
 "nbformat_minor": 0
}
