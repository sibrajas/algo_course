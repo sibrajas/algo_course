{
 "cells": [
  {
   "cell_type": "code",
   "execution_count": 98,
   "metadata": {
    "collapsed": false
   },
   "outputs": [
    {
     "name": "stdout",
     "output_type": "stream",
     "text": [
      "------------Start of String-----------\n",
      "a yes\n",
      "b no\n",
      "c no\n",
      "b no\n",
      "a yes\n",
      "------------End of String-----------\n",
      "------------Start of String-----------\n",
      "a yes\n",
      "a yes\n",
      "b no\n",
      "a no\n",
      "a yes\n",
      "c no\n",
      "a no\n",
      "a no\n",
      "b no\n",
      "a no\n",
      "a yes\n",
      "------------End of String-----------\n"
     ]
    }
   ],
   "source": [
    "def xstr(s):\n",
    "    return \"\" if s is None else str(s)\n",
    "\n",
    "def ispal(char):\n",
    "    global s,fchar,schar,first,second,lastindex\n",
    "    if char is None:\n",
    "        print 'No'\n",
    "    s=str(s or \"\")+str(char)\n",
    "    if len(s)%2==1:\n",
    "        if fchar:\n",
    "            first=str(char)\n",
    "            print \"yes\"\n",
    "            fchar=0\n",
    "            return\n",
    "        second=xstr(second)+str(char)\n",
    "        second=second[1:]\n",
    "    if len(s)%2==0:\n",
    "        second=xstr(second)+str(char)\n",
    "        lastindex=len(s)/2-1\n",
    "        if schar:\n",
    "            schar=0\n",
    "            if first==second:\n",
    "                print 'yes'\n",
    "            else:\n",
    "                print 'no'\n",
    "            return\n",
    "        first=s[lastindex]+str(first)\n",
    "        #print first,second\n",
    "    if first==second:\n",
    "        print 'yes'\n",
    "    else:\n",
    "        print 'no'\n",
    "        \n",
    "#Globals\n",
    "s=None\n",
    "fchar=schar=int(1)\n",
    "lastindex=0\n",
    "first=second=None\n",
    "\n",
    "if __name__=='__main__'    :\n",
    "    with open('palstrings.txt') as fd:\n",
    "        global fchar\n",
    "        for line in fd:\n",
    "            print \"------------Start of String-----------\"\n",
    "            line=line.strip()\n",
    "            for char in line:\n",
    "                print char,\n",
    "                ispal(char)\n",
    "            print \"------------End of String-----------\"\n",
    "            fchar=1;schar=1\n",
    "            s=None;first=None;second=None\n"
   ]
  },
  {
   "cell_type": "code",
   "execution_count": 83,
   "metadata": {
    "collapsed": false
   },
   "outputs": [
    {
     "name": "stdout",
     "output_type": "stream",
     "text": [
      "aab\n"
     ]
    }
   ],
   "source": [
    "f='a'+'ab'\n",
    "print f"
   ]
  }
 ],
 "metadata": {
  "kernelspec": {
   "display_name": "Python 2",
   "language": "python",
   "name": "python2"
  },
  "language_info": {
   "codemirror_mode": {
    "name": "ipython",
    "version": 2
   },
   "file_extension": ".py",
   "mimetype": "text/x-python",
   "name": "python",
   "nbconvert_exporter": "python",
   "pygments_lexer": "ipython2",
   "version": "2.7.10"
  }
 },
 "nbformat": 4,
 "nbformat_minor": 0
}
