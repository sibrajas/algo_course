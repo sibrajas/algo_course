{
 "cells": [
  {
   "cell_type": "code",
   "execution_count": 25,
   "metadata": {
    "collapsed": false
   },
   "outputs": [
    {
     "name": "stdout",
     "output_type": "stream",
     "text": [
      "[0, 0, 0, 0, 0, 0, 0, 0, 0, 0, 0, 0, 0, 0, 0, 0, 0, 0, 0, 0, 0, 0, 0, 0, 0, 0, 0, 0, 0]\n",
      "2\n",
      "5\n",
      "14\n",
      "42\n",
      "132\n",
      "429\n",
      "1430\n",
      "4862\n",
      "[1, 1, 2, 5, 14, 42, 132, 429, 1430, 4862, 0, 0, 0, 0, 0, 0, 0, 0, 0, 0, 0, 0, 0, 0, 0, 0, 0, 0, 0]\n"
     ]
    }
   ],
   "source": [
    "from Treenode import Treenode\n",
    "memo=[0 for i in range(1,30)]\n",
    "print memo\n",
    "\n",
    "def CountBinaryTrees(n):\n",
    "    if n==1 or n==0:\n",
    "        return 1\n",
    "    else:\n",
    "        sum=0\n",
    "        for k in range(1,n+1):\n",
    "            if memo[k-1]==0:\n",
    "                memo[k-1]=CountBinaryTrees(k-1)\n",
    "            left=memo[k-1]\n",
    "            if memo[n-k]==0:\n",
    "                memo[n-k]=CountBinaryTrees(n-k)\n",
    "            right=memo[n-k]\n",
    "            sum=sum+(left*right)\n",
    "        memo[n]=sum\n",
    "        return sum\n",
    "        \n",
    "for i in range(2,10):\n",
    "    x=CountBinaryTrees(i)\n",
    "    print x\n",
    "print memo"
   ]
  },
  {
   "cell_type": "code",
   "execution_count": 55,
   "metadata": {
    "collapsed": false
   },
   "outputs": [
    {
     "name": "stdout",
     "output_type": "stream",
     "text": [
      "[1, 2, 5, 14, 42, 132, 429, 1430, 4862, 16796]\n",
      "[1, 2, 5, 14, 42, 132, 429, 1430, 4862, 16796]\n"
     ]
    }
   ],
   "source": [
    "def countbstdynamicprog(n):\n",
    "    mat=[[0 for i in range(n+1)] for i in range(n+2)]\n",
    "    for i in range(n+2):\n",
    "        mat[i][0]=1\n",
    "    for i in range(1,n+1):\n",
    "        sum=0\n",
    "        for j in range(1,i+1):\n",
    "            mat[j][i]=mat[n+1][j-1]*mat[n+1][i-j]\n",
    "            sum=sum+mat[j][i]\n",
    "        mat[n+1][i]=sum\n",
    "    print mat[n+1][1:]\n",
    "def countbst(n):\n",
    "    mat=[[0 for i in range(n+1)] for i in range(n+1)]\n",
    "    catalan=[0 for i in range(n+1)]\n",
    "    catalan[0]=1\n",
    "    for i in range(n+1):\n",
    "        mat[i][0]=1\n",
    "    for i in range(1,n+1):\n",
    "        sum=0\n",
    "        for j in range(1,i+1):\n",
    "            mat[j][i]=catalan[j-1]*catalan[i-j]\n",
    "            sum=sum+mat[j][i]\n",
    "        catalan[i]=sum\n",
    "    print catalan[1:]    \n",
    "\n",
    "countbst(10)\n",
    "countbstdynamicprog(10)  #Damn how does this work in ipython\n"
   ]
  },
  {
   "cell_type": "code",
   "execution_count": 33,
   "metadata": {
    "collapsed": false
   },
   "outputs": [
    {
     "name": "stdout",
     "output_type": "stream",
     "text": [
      "0\n",
      "1\n",
      "2\n",
      "3\n",
      "4\n"
     ]
    }
   ],
   "source": [
    "for i in range(5):\n",
    "    print i"
   ]
  }
 ],
 "metadata": {
  "kernelspec": {
   "display_name": "Python 2",
   "language": "python",
   "name": "python2"
  },
  "language_info": {
   "codemirror_mode": {
    "name": "ipython",
    "version": 2
   },
   "file_extension": ".py",
   "mimetype": "text/x-python",
   "name": "python",
   "nbconvert_exporter": "python",
   "pygments_lexer": "ipython2",
   "version": "2.7.10"
  }
 },
 "nbformat": 4,
 "nbformat_minor": 0
}
