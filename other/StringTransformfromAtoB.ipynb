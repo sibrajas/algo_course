{
 "cells": [
  {
   "cell_type": "code",
   "execution_count": 219,
   "metadata": {
    "collapsed": false
   },
   "outputs": [
    {
     "name": "stdout",
     "output_type": "stream",
     "text": [
      "['a', 'f', 'f']\n",
      "['f', 'a', 'f']\n",
      "2\n"
     ]
    }
   ],
   "source": [
    "def string_transform(A,B):\n",
    "    count=0\n",
    "    if len(B)!=len(A):\n",
    "        return -1\n",
    "    for i in reversed(range(1,len(B))):\n",
    "        if A.index(B[i-1])>A.index(B[i]):\n",
    "            count+=1\n",
    "            A=inserttofront(B[i-1],list(A))\n",
    "            print A\n",
    "    print count\n",
    "            \n",
    "def inserttofront(a,lis):\n",
    "    b=''\n",
    "    b+=a\n",
    "    lis.remove(a)\n",
    "    for i in lis:\n",
    "        b+=i\n",
    "    return list(b)\n",
    "\n",
    "A='ffa'\n",
    "B='faf'\n",
    "string_transform(A,B)\n",
    "\n",
    "    \n",
    "    "
   ]
  },
  {
   "cell_type": "code",
   "execution_count": 210,
   "metadata": {
    "collapsed": false
   },
   "outputs": [
    {
     "name": "stdout",
     "output_type": "stream",
     "text": [
      "FCDEAB ABCDEF 6\n",
      "CDEAB ABCDE 11\n",
      "CDAB ABCD 13\n",
      "CAB ABC 15\n",
      "AB AB 17\n",
      "17\n"
     ]
    }
   ],
   "source": [
    "def similar():\n",
    "    A='GFCDEABH'\n",
    "    B='ABCDEFGH'\n",
    "    if len(A)!=len(B):\n",
    "        return 0\n",
    "    ha={}\n",
    "    hb={}\n",
    "    for char in A:\n",
    "        no=ord(char)-ord('A')-13\n",
    "        ha[no]=ha.get(no,0) + 1\n",
    "    for char in B:\n",
    "        no=ord(char)-ord('A')-13\n",
    "        hb[no]=hb.get(no,0) + 1\n",
    "    asum=bsum=0\n",
    "    for key,value in ha.iteritems():\n",
    "        asum+=key**value\n",
    "    for key,value in hb.iteritems():\n",
    "        bsum+=key**value\n",
    "    if ha!=hb:\n",
    "        return 0\n",
    "    count=0\n",
    "    i=x=len(A)-1\n",
    "    while i>0:\n",
    "        if A[i]==B[i]:\n",
    "            A=A.replace(A[i],'')\n",
    "            B=B.replace(B[i],'')\n",
    "            i-=1\n",
    "            continue\n",
    "        else:\n",
    "            for j in range(i-1,-1,-1):\n",
    "                #print i\n",
    "                if A[j]==B[i]:\n",
    "                    #print i\n",
    "                    count+=abs(j-i)\n",
    "                    #A=A[:j]+A[j+1:]\n",
    "                    A=A.replace(A[j],'')\n",
    "                    B=B.replace(B[i],'')\n",
    "                    break\n",
    "                else:\n",
    "                    continue\n",
    "            i-=1\n",
    "            if j==-1:\n",
    "                return 0\n",
    "        x=len(A)\n",
    "        i=x-1\n",
    "        print A,B, count\n",
    "        #print len(A),len(B)\n",
    "        #print i\n",
    "    print count\n",
    "    \n",
    "\n",
    "\n",
    "similar() #This is buggy"
   ]
  },
  {
   "cell_type": "code",
   "execution_count": 147,
   "metadata": {
    "collapsed": false
   },
   "outputs": [
    {
     "name": "stdout",
     "output_type": "stream",
     "text": [
      "5\n",
      "4\n"
     ]
    }
   ],
   "source": [
    "A=[1,21,33,4]\n",
    "A[:1]\n",
    "A='hello'\n",
    "print len(A)\n",
    "A=A.replace('o','')\n",
    "print len(A)"
   ]
  },
  {
   "cell_type": "code",
   "execution_count": 209,
   "metadata": {
    "collapsed": false
   },
   "outputs": [
    {
     "name": "stdout",
     "output_type": "stream",
     "text": [
      "['F', 'G', 'C', 'D', 'E', 'A', 'B', 'H']\n",
      "['E', 'F', 'G', 'C', 'D', 'A', 'B', 'H']\n",
      "['D', 'E', 'F', 'G', 'C', 'A', 'B', 'H']\n",
      "['C', 'D', 'E', 'F', 'G', 'A', 'B', 'H']\n",
      "['B', 'C', 'D', 'E', 'F', 'G', 'A', 'H']\n",
      "['A', 'B', 'C', 'D', 'E', 'F', 'G', 'H']\n",
      "6\n"
     ]
    }
   ],
   "source": []
  },
  {
   "cell_type": "code",
   "execution_count": 216,
   "metadata": {
    "collapsed": false
   },
   "outputs": [
    {
     "name": "stdout",
     "output_type": "stream",
     "text": [
      "2\n",
      "['s', 'T', 'R', 'I', 'R', 'G']\n",
      "['N', 's', 'T', 'R', 'I', 'R', 'G']\n",
      "NsTRIRG\n"
     ]
    }
   ],
   "source": [
    "A=\"sTRINRG\"\n",
    "print A.index('R')\n",
    "a=list(A)\n",
    "a.remove('N')\n",
    "print a\n",
    "a.insert(0,'N')\n",
    "print a\n",
    "x=\"\".join(a)\n",
    "print x"
   ]
  }
 ],
 "metadata": {
  "kernelspec": {
   "display_name": "Python 2",
   "language": "python",
   "name": "python2"
  },
  "language_info": {
   "codemirror_mode": {
    "name": "ipython",
    "version": 2
   },
   "file_extension": ".py",
   "mimetype": "text/x-python",
   "name": "python",
   "nbconvert_exporter": "python",
   "pygments_lexer": "ipython2",
   "version": "2.7.10"
  }
 },
 "nbformat": 4,
 "nbformat_minor": 0
}
