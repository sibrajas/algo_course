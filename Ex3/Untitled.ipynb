{
 "cells": [
  {
   "cell_type": "code",
   "execution_count": 314,
   "metadata": {
    "collapsed": false
   },
   "outputs": [
    {
     "ename": "KeyError",
     "evalue": "12",
     "output_type": "error",
     "traceback": [
      "\u001b[1;31m---------------------------------------------------------------------------\u001b[0m",
      "\u001b[1;31mKeyError\u001b[0m                                  Traceback (most recent call last)",
      "\u001b[1;32m<ipython-input-314-4871e63e3af2>\u001b[0m in \u001b[0;36m<module>\u001b[1;34m()\u001b[0m\n\u001b[0;32m     29\u001b[0m     \u001b[1;32mfor\u001b[0m \u001b[0mi\u001b[0m \u001b[1;32min\u001b[0m \u001b[0mrange\u001b[0m\u001b[1;33m(\u001b[0m\u001b[1;36m1\u001b[0m\u001b[1;33m)\u001b[0m\u001b[1;33m:\u001b[0m\u001b[1;33m\u001b[0m\u001b[0m\n\u001b[0;32m     30\u001b[0m         \u001b[0mdata\u001b[0m\u001b[1;33m=\u001b[0m\u001b[0mcopy\u001b[0m\u001b[1;33m.\u001b[0m\u001b[0mdeepcopy\u001b[0m\u001b[1;33m(\u001b[0m\u001b[0mG\u001b[0m\u001b[1;33m)\u001b[0m\u001b[1;33m\u001b[0m\u001b[0m\n\u001b[1;32m---> 31\u001b[1;33m         \u001b[0mncuts\u001b[0m\u001b[1;33m=\u001b[0m\u001b[0mkarnercut\u001b[0m\u001b[1;33m(\u001b[0m\u001b[0mdata\u001b[0m\u001b[1;33m)\u001b[0m\u001b[1;33m\u001b[0m\u001b[0m\n\u001b[0m\u001b[0;32m     32\u001b[0m         \u001b[1;32mif\u001b[0m \u001b[0mncuts\u001b[0m\u001b[1;33m<\u001b[0m\u001b[0mglobalncuts\u001b[0m\u001b[1;33m:\u001b[0m\u001b[1;33m\u001b[0m\u001b[0m\n\u001b[0;32m     33\u001b[0m             \u001b[0mglobalncuts\u001b[0m\u001b[1;33m=\u001b[0m\u001b[0mncuts\u001b[0m\u001b[1;33m\u001b[0m\u001b[0m\n",
      "\u001b[1;32m<ipython-input-314-4871e63e3af2>\u001b[0m in \u001b[0;36mkarnercut\u001b[1;34m(Graph)\u001b[0m\n\u001b[0;32m      9\u001b[0m         \u001b[1;32mfor\u001b[0m \u001b[0mx\u001b[0m \u001b[1;32min\u001b[0m \u001b[0mGraph\u001b[0m\u001b[1;33m[\u001b[0m\u001b[0mvertex2\u001b[0m\u001b[1;33m]\u001b[0m\u001b[1;33m:\u001b[0m\u001b[1;33m\u001b[0m\u001b[0m\n\u001b[0;32m     10\u001b[0m \u001b[1;31m#            if vertex2 in Graph[x]:\u001b[0m\u001b[1;33m\u001b[0m\u001b[1;33m\u001b[0m\u001b[0m\n\u001b[1;32m---> 11\u001b[1;33m             \u001b[0mGraph\u001b[0m\u001b[1;33m[\u001b[0m\u001b[0mx\u001b[0m\u001b[1;33m]\u001b[0m\u001b[1;33m.\u001b[0m\u001b[0mremove\u001b[0m\u001b[1;33m(\u001b[0m\u001b[0mvertex2\u001b[0m\u001b[1;33m)\u001b[0m\u001b[1;33m\u001b[0m\u001b[0m\n\u001b[0m\u001b[0;32m     12\u001b[0m             \u001b[0mGraph\u001b[0m\u001b[1;33m[\u001b[0m\u001b[0mx\u001b[0m\u001b[1;33m]\u001b[0m\u001b[1;33m.\u001b[0m\u001b[0mappend\u001b[0m\u001b[1;33m(\u001b[0m\u001b[0mvertex1\u001b[0m\u001b[1;33m)\u001b[0m\u001b[1;33m\u001b[0m\u001b[0m\n\u001b[0;32m     13\u001b[0m         \u001b[1;32mfor\u001b[0m \u001b[0me1\u001b[0m \u001b[1;32min\u001b[0m \u001b[0mGraph\u001b[0m\u001b[1;33m[\u001b[0m\u001b[0mvertex1\u001b[0m\u001b[1;33m]\u001b[0m\u001b[1;33m:\u001b[0m\u001b[1;33m\u001b[0m\u001b[0m\n",
      "\u001b[1;31mKeyError\u001b[0m: 12"
     ]
    }
   ],
   "source": [
    "import copy,random\n",
    "import numpy as np\n",
    "def karnercut(Graph):\n",
    "    cuts=0\n",
    "    while len(Graph.keys())>2:\n",
    "        vertex1=random.choice(Graph.keys())\n",
    "        vertex2=random.choice(Graph[vertex1])\n",
    "        Graph[vertex1].extend(Graph[vertex2])\n",
    "        for x in Graph[vertex2]:\n",
    "#            if vertex2 in Graph[x]:\n",
    "            Graph[x].remove(vertex2)\n",
    "            Graph[x].append(vertex1)\n",
    "        for e1 in Graph[vertex1]:\n",
    "            if e1==vertex1:\n",
    "                Graph[vertex1].remove(e1)\n",
    "        #while vertex1 in Graph[vertex1]:\n",
    "            #Graph[vertex1].remove(vertex1)\n",
    "        del Graph[vertex2]\n",
    "    print Graph\n",
    "    return cuts \n",
    "\n",
    "if __name__=='__main__':\n",
    "    inp=open(\"kargerMinCut.txt\")\n",
    "    G={}\n",
    "    globalncuts=np.Inf\n",
    "    for line in inp:\n",
    "        nthline=[int(s) for s in line.split()]\n",
    "        G[nthline[0]]=nthline[1:]\n",
    "    for i in range(1):\n",
    "        data=copy.deepcopy(G)\n",
    "        ncuts=karnercut(data)\n",
    "        if ncuts<globalncuts:\n",
    "            globalncuts=ncuts\n",
    "    print globalncuts\n"
   ]
  },
  {
   "cell_type": "code",
   "execution_count": 252,
   "metadata": {
    "collapsed": false
   },
   "outputs": [
    {
     "ename": "NameError",
     "evalue": "global name 'copy' is not defined",
     "output_type": "error",
     "traceback": [
      "\u001b[1;31m---------------------------------------------------------------------------\u001b[0m",
      "\u001b[1;31mNameError\u001b[0m                                 Traceback (most recent call last)",
      "\u001b[1;32m<ipython-input-252-6d2861eb99e0>\u001b[0m in \u001b[0;36m<module>\u001b[1;34m()\u001b[0m\n\u001b[0;32m     52\u001b[0m     \u001b[1;31m#print len(vertices)\u001b[0m\u001b[1;33m\u001b[0m\u001b[1;33m\u001b[0m\u001b[0m\n\u001b[0;32m     53\u001b[0m     \u001b[1;31m#print np.random.randint(200)\u001b[0m\u001b[1;33m\u001b[0m\u001b[1;33m\u001b[0m\u001b[0m\n\u001b[1;32m---> 54\u001b[1;33m     \u001b[0mkarnercut\u001b[0m\u001b[1;33m(\u001b[0m\u001b[0mvertices\u001b[0m\u001b[1;33m)\u001b[0m\u001b[1;33m\u001b[0m\u001b[0m\n\u001b[0m\u001b[0;32m     55\u001b[0m \u001b[1;32mif\u001b[0m \u001b[1;34m\"\"\u001b[0m\u001b[1;33m:\u001b[0m\u001b[1;33m\u001b[0m\u001b[0m\n\u001b[0;32m     56\u001b[0m     \u001b[0mpart1\u001b[0m\u001b[1;33m,\u001b[0m\u001b[0mpart2\u001b[0m\u001b[1;33m=\u001b[0m\u001b[0mcutofgraph\u001b[0m\u001b[1;33m(\u001b[0m\u001b[0mvertices\u001b[0m\u001b[1;33m)\u001b[0m\u001b[1;33m\u001b[0m\u001b[0m\n",
      "\u001b[1;32m<ipython-input-252-6d2861eb99e0>\u001b[0m in \u001b[0;36mkarnercut\u001b[1;34m(vertices)\u001b[0m\n\u001b[0;32m      2\u001b[0m \u001b[1;32mimport\u001b[0m \u001b[0mpandas\u001b[0m \u001b[1;32mas\u001b[0m \u001b[0mpd\u001b[0m\u001b[1;33m\u001b[0m\u001b[0m\n\u001b[0;32m      3\u001b[0m \u001b[1;32mdef\u001b[0m \u001b[0mkarnercut\u001b[0m\u001b[1;33m(\u001b[0m\u001b[0mvertices\u001b[0m\u001b[1;33m)\u001b[0m\u001b[1;33m:\u001b[0m\u001b[1;33m\u001b[0m\u001b[0m\n\u001b[1;32m----> 4\u001b[1;33m     \u001b[0mG\u001b[0m\u001b[1;33m=\u001b[0m\u001b[0mcopy\u001b[0m\u001b[1;33m.\u001b[0m\u001b[0mdeepcopy\u001b[0m\u001b[1;33m(\u001b[0m\u001b[0mvertices\u001b[0m\u001b[1;33m)\u001b[0m\u001b[1;33m\u001b[0m\u001b[0m\n\u001b[0m\u001b[0;32m      5\u001b[0m     \u001b[0mE\u001b[0m\u001b[1;33m=\u001b[0m\u001b[1;33m{\u001b[0m\u001b[1;33m}\u001b[0m\u001b[1;33m\u001b[0m\u001b[0m\n\u001b[0;32m      6\u001b[0m \u001b[1;33m\u001b[0m\u001b[0m\n",
      "\u001b[1;31mNameError\u001b[0m: global name 'copy' is not defined"
     ]
    }
   ],
   "source": [
    "import copy\n",
    "import numpy as np\n",
    "import pandas as pd\n",
    "def karnercut(vertices):\n",
    "    G=copy.deepcopy(vertices)\n",
    "    E={}\n",
    "    for vertex in vertices:\n",
    "        V.append(vertex[0])\n",
    "        E[vertex[0]]=vertex[1:]\n",
    "    #for vertex in vertices:\n",
    "     #   for edge in vertex[1:]:\n",
    "    #       E[vertex[0]].append(V[edge-1])\n",
    "    #for i,x in enumerate(V):\n",
    "     #   V[i]=0\n",
    "    print V[:10],E\n",
    "    #for vertex in vertices:\n",
    "        \n",
    "def cutofgraph(vertices):\n",
    "    processed_vertices=[]\n",
    "    \n",
    "    while (len(processed_vertices)<len(vertices)-2):\n",
    "        vertex=np.random.randint(len(vertices)) # generate numbers from 0 to 199 randomly\n",
    "        vertexedges=len(vertices[vertex])\n",
    "        edge=np.random.randint(1,vertexedges)\n",
    "        vertex1=vertices[vertex][edge]-1\n",
    "        vertices[vertex].pop(edge)\n",
    "        #print \"Final\"\n",
    "        #print vertices[vertex]\n",
    "        #for i,x in enumerate(vertices[vertex1]):\n",
    "         #   if i>0:\n",
    "        #      vertices[vertex].append(x)\n",
    "                #pass\n",
    "                #vertices[vertex1].remove(x)\n",
    "        vertices[vertex].extend(vertices[vertex1])\n",
    "        processed_vertices.append(vertex1)\n",
    "        vertices.pop(vertex1)\n",
    "        break    \n",
    "    return vertices[vertex],vertices[vertex1]\n",
    "        \n",
    "if __name__=='__main__':\n",
    "    file=open(\"kargerMinCut.txt\")\n",
    "    vertexinfo=file.readlines()\n",
    "    vertices=[]\n",
    "    for vertex in vertexinfo:\n",
    "        #Converting nodes to int is necessary because we index the edges from the list and needs to be an int\n",
    "        x=[]\n",
    "        x=map(int,vertex.strip('\\t').split())   \n",
    "        vertices.append(x)\n",
    "    #for vertex in vertices[0:10]:\n",
    "     #   print vertex\n",
    "    #print len(vertices)\n",
    "    #print np.random.randint(200)\n",
    "    karnercut(vertices)\n",
    "if \"\":\n",
    "    part1,part2=cutofgraph(vertices)\n",
    "    print \"----The cut contains the following two groups of vertices----\"\n",
    "    print \"Group1\"\n",
    "    print part1\n",
    "    print \"Group2\"\n",
    "    print part2\n",
    "    \n"
   ]
  },
  {
   "cell_type": "code",
   "execution_count": 203,
   "metadata": {
    "collapsed": false
   },
   "outputs": [
    {
     "name": "stdout",
     "output_type": "stream",
     "text": [
      "1\n"
     ]
    }
   ],
   "source": [
    "print np.random.randint(1,3)"
   ]
  },
  {
   "cell_type": "code",
   "execution_count": 204,
   "metadata": {
    "collapsed": false
   },
   "outputs": [
    {
     "name": "stdout",
     "output_type": "stream",
     "text": [
      "[[0, 1], [2, 3], [4]]\n",
      "[4]\n"
     ]
    }
   ],
   "source": [
    "x=[[0,1],[2,3],[4]]\n",
    "print x\n",
    "x.pop(1)\n",
    "print x[1]"
   ]
  },
  {
   "cell_type": "code",
   "execution_count": 208,
   "metadata": {
    "collapsed": false
   },
   "outputs": [
    {
     "name": "stdout",
     "output_type": "stream",
     "text": [
      "[0, 1, 2, 4]\n",
      "[0, 1, 2, 4, 2, 3, 4]\n"
     ]
    }
   ],
   "source": [
    "x=[0,1,2,6,4]\n",
    "y=[1,2,3,4]\n",
    "x.remove(6)\n",
    "print x\n",
    "x.extend(y[1:])\n",
    "print x"
   ]
  },
  {
   "cell_type": "code",
   "execution_count": 296,
   "metadata": {
    "collapsed": false
   },
   "outputs": [
    {
     "name": "stdout",
     "output_type": "stream",
     "text": [
      "{'Sib': 913, 'Sibi': [912, 0, 2]}\n"
     ]
    },
    {
     "ename": "AttributeError",
     "evalue": "'dict' object has no attribute 'remove'",
     "output_type": "error",
     "traceback": [
      "\u001b[1;31m---------------------------------------------------------------------------\u001b[0m",
      "\u001b[1;31mAttributeError\u001b[0m                            Traceback (most recent call last)",
      "\u001b[1;32m<ipython-input-296-1bf34b78ddab>\u001b[0m in \u001b[0;36m<module>\u001b[1;34m()\u001b[0m\n\u001b[0;32m      3\u001b[0m \u001b[0mpb\u001b[0m\u001b[1;33m[\u001b[0m\u001b[1;34m'Sib'\u001b[0m\u001b[1;33m]\u001b[0m\u001b[1;33m=\u001b[0m\u001b[1;36m913\u001b[0m\u001b[1;33m\u001b[0m\u001b[0m\n\u001b[0;32m      4\u001b[0m \u001b[1;32mprint\u001b[0m \u001b[0mpb\u001b[0m\u001b[1;33m\u001b[0m\u001b[0m\n\u001b[1;32m----> 5\u001b[1;33m \u001b[0mpb\u001b[0m\u001b[1;33m.\u001b[0m\u001b[0mremove\u001b[0m\u001b[1;33m\u001b[0m\u001b[0m\n\u001b[0m\u001b[0;32m      6\u001b[0m \u001b[1;32mprint\u001b[0m \u001b[0mpb\u001b[0m\u001b[1;33m\u001b[0m\u001b[0m\n",
      "\u001b[1;31mAttributeError\u001b[0m: 'dict' object has no attribute 'remove'"
     ]
    }
   ],
   "source": [
    "pb={}\n",
    "pb['Sibi']=[912,00,02]\n",
    "pb['Sib']=913\n",
    "print pb\n",
    "pb.remove\n",
    "print pb"
   ]
  },
  {
   "cell_type": "code",
   "execution_count": 305,
   "metadata": {
    "collapsed": false
   },
   "outputs": [
    {
     "name": "stdout",
     "output_type": "stream",
     "text": [
      "[15, 15, 15, 15, 15, 15]\n",
      "15\n",
      "5\n"
     ]
    }
   ],
   "source": [
    "x=[0,1,2,3,4,5]\n",
    "a=[]\n",
    "for i,q in enumerate(x):\n",
    "    a=x[i]\n",
    "for i,a in enumerate(x):\n",
    "    x[i]=15\n",
    "print x\n",
    "print x[0]\n",
    "print a"
   ]
  },
  {
   "cell_type": "code",
   "execution_count": 312,
   "metadata": {
    "collapsed": false
   },
   "outputs": [
    {
     "name": "stdout",
     "output_type": "stream",
     "text": [
      "{0: [2], 1: [3, 4]}\n"
     ]
    }
   ],
   "source": [
    "pb={}\n",
    "pb[0]=[1,2]\n",
    "pb[1]=[3,4]\n",
    "if 1 in pb[0]:\n",
    "    pb[0].remove(1)\n",
    "print pb"
   ]
  }
 ],
 "metadata": {
  "kernelspec": {
   "display_name": "Python 2",
   "language": "python",
   "name": "python2"
  },
  "language_info": {
   "codemirror_mode": {
    "name": "ipython",
    "version": 2
   },
   "file_extension": ".py",
   "mimetype": "text/x-python",
   "name": "python",
   "nbconvert_exporter": "python",
   "pygments_lexer": "ipython2",
   "version": "2.7.10"
  }
 },
 "nbformat": 4,
 "nbformat_minor": 0
}
