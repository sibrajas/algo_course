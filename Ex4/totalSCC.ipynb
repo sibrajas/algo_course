{
 "cells": [
  {
   "cell_type": "code",
   "execution_count": 5,
   "metadata": {
    "collapsed": false
   },
   "outputs": [
    {
     "name": "stdout",
     "output_type": "stream",
     "text": [
      "{0: [], 1: [0, 1], 2: [], 3: [], 4: [], 5: [], 6: [], 7: [], 8: [], 9: []}\n"
     ]
    }
   ],
   "source": [
    "explored=[]\n",
    "\n",
    "def DFS(G,s,currentlabel):\n",
    "    if s in G.keys():\n",
    "        for val in G[s]:\n",
    "            if val not in explored:\n",
    "                explored.append(val)\n",
    "                currentlabel=DFS(G,val,currentlabel)\n",
    "    f[s]=currentlabel\n",
    "    currentlabel=currentlabel-1\n",
    "    return currentlabel\n",
    "\n",
    "def DFSloop(G):\n",
    "    currentlabel=len(G)\n",
    "    for x in G.keys():\n",
    "        print str(x)+\" key\"\n",
    "        if x not in explored:\n",
    "            currentlabel=DFS(G,x,currentlabel)\n",
    "\n",
    "if __name__=='__main__':\n",
    "    G={}\n",
    "    f={}\n",
    "    adjlist={}#dict()\n",
    "    #for i in range(875714):\n",
    "    adjlist={i+1:[] for i in range(875714)}\n",
    "    if 0:\n",
    "        with open(\"SCC.txt\") as f:\n",
    "            for line in f:\n",
    "                line=map(int,line.split())\n",
    "                #if line[0] in adjlist:\n",
    "                adjlist[line[0]].append(line[1])\n",
    "                #else:\n",
    "                    #adjlist[line[0]]=[line[1]]\n",
    "    adjlist[1].append(0)\n",
    "    adjlist[1].append(1)\n",
    "    print adjlist\n",
    "    #DFSloop(graph)\n",
    "    #print f\n"
   ]
  },
  {
   "cell_type": "code",
   "execution_count": 3,
   "metadata": {
    "collapsed": false
   },
   "outputs": [
    {
     "name": "stdout",
     "output_type": "stream",
     "text": [
      "total 70964\r\n",
      "-rw-rw-r-- 1 ubuntu ubuntu       40 Aug  5 10:54 dfscheck.txt\r\n",
      "-rw-rw-r-- 1 ubuntu ubuntu 72653481 Aug  5 08:43 SCC.txt\r\n",
      "-rw-rw-r-- 1 ubuntu ubuntu     2228 Aug  5 12:28 totalSCC.ipynb\r\n",
      "-rw-rw-r-- 1 ubuntu ubuntu     3912 Aug  5 11:06 Untitled.ipynb\r\n"
     ]
    }
   ],
   "source": [
    "ls -l"
   ]
  }
 ],
 "metadata": {
  "kernelspec": {
   "display_name": "Python 2",
   "language": "python",
   "name": "python2"
  },
  "language_info": {
   "codemirror_mode": {
    "name": "ipython",
    "version": 2
   },
   "file_extension": ".py",
   "mimetype": "text/x-python",
   "name": "python",
   "nbconvert_exporter": "python",
   "pygments_lexer": "ipython2",
   "version": "2.7.10"
  }
 },
 "nbformat": 4,
 "nbformat_minor": 0
}
