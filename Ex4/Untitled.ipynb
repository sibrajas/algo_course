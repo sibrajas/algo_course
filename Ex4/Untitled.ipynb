{
 "cells": [
  {
   "cell_type": "code",
   "execution_count": 1,
   "metadata": {
    "collapsed": false
   },
   "outputs": [
    {
     "data": {
      "text/plain": [
       "u'/home/ubuntu/algo_course/Ex4'"
      ]
     },
     "execution_count": 1,
     "metadata": {},
     "output_type": "execute_result"
    }
   ],
   "source": [
    "pwd"
   ]
  },
  {
   "cell_type": "code",
   "execution_count": 6,
   "metadata": {
    "collapsed": false
   },
   "outputs": [
    {
     "ename": "TypeError",
     "evalue": "'file' object has no attribute '__getitem__'",
     "output_type": "error",
     "traceback": [
      "\u001b[1;31m---------------------------------------------------------------------------\u001b[0m",
      "\u001b[1;31mTypeError\u001b[0m                                 Traceback (most recent call last)",
      "\u001b[1;32m<ipython-input-6-cef9bd78a9eb>\u001b[0m in \u001b[0;36m<module>\u001b[1;34m()\u001b[0m\n\u001b[0;32m     34\u001b[0m         }\n\u001b[0;32m     35\u001b[0m     \u001b[0mfd\u001b[0m\u001b[1;33m=\u001b[0m\u001b[0mopen\u001b[0m\u001b[1;33m(\u001b[0m\u001b[1;34m\"SCC.txt\"\u001b[0m\u001b[1;33m)\u001b[0m\u001b[1;33m\u001b[0m\u001b[0m\n\u001b[1;32m---> 36\u001b[1;33m     \u001b[1;32mprint\u001b[0m \u001b[0mfd\u001b[0m\u001b[1;33m[\u001b[0m\u001b[1;33m:\u001b[0m\u001b[1;36m100\u001b[0m\u001b[1;33m]\u001b[0m\u001b[1;33m\u001b[0m\u001b[0m\n\u001b[0m\u001b[0;32m     37\u001b[0m     \u001b[1;31m#lines=fd.readline()#[:100]\u001b[0m\u001b[1;33m\u001b[0m\u001b[1;33m\u001b[0m\u001b[0m\n\u001b[0;32m     38\u001b[0m     \u001b[1;31m#print lines\u001b[0m\u001b[1;33m\u001b[0m\u001b[1;33m\u001b[0m\u001b[0m\n",
      "\u001b[1;31mTypeError\u001b[0m: 'file' object has no attribute '__getitem__'"
     ]
    }
   ],
   "source": [
    "explored=[]\n",
    "\n",
    "def DFS(G,s,currentlabel):\n",
    "    if s in G.keys():\n",
    "        for val in G[s]:\n",
    "            if val not in explored:\n",
    "                explored.append(val)\n",
    "                currentlabel=DFS(G,val,currentlabel)\n",
    "    f[s]=currentlabel\n",
    "    currentlabel=currentlabel-1\n",
    "    return currentlabel\n",
    "\n",
    "def DFSloop(G):\n",
    "    currentlabel=len(G)\n",
    "    for x in G.keys():\n",
    "        print str(x)+\" key\"\n",
    "        if x not in explored:\n",
    "            currentlabel=DFS(G,x,currentlabel)\n",
    "\n",
    "if __name__=='__main__':\n",
    "    G={}\n",
    "    f={}\n",
    "    G[4]=[]\n",
    "    G[1]=[2,3]\n",
    "    G[2]=[4]\n",
    "    G[3]=[4]\n",
    "    graph = {\n",
    "        1: [2, 3],\n",
    "        2: [4, 5, 6],\n",
    "        3: [4,6],\n",
    "        4: [5,6],\n",
    "        5: [6],\n",
    "        6: []\n",
    "        }\n",
    "    fd=open(\"SCC.txt\")\n",
    "    #print fd[:100]\n",
    "    #lines=fd.readline()#[:100]\n",
    "    #print lines\n",
    "    adjlist={}#dict()\n",
    "    for line in lines:\n",
    "    #while (line=fd.readline()!=-1):\n",
    "        line=map(int,line.split())\n",
    "        #print line[0],line[1]\n",
    "        if line[0] in adjlist:\n",
    "            adjlist[line[0]].append(line[1])\n",
    "        else:\n",
    "            adjlist[line[0]]=[line[1]]\n",
    "    print adjlist\n",
    "    #DFSloop(graph)\n",
    "    print f\n"
   ]
  },
  {
   "cell_type": "code",
   "execution_count": null,
   "metadata": {
    "collapsed": true
   },
   "outputs": [],
   "source": []
  }
 ],
 "metadata": {
  "kernelspec": {
   "display_name": "Python 2",
   "language": "python",
   "name": "python2"
  },
  "language_info": {
   "codemirror_mode": {
    "name": "ipython",
    "version": 2
   },
   "file_extension": ".py",
   "mimetype": "text/x-python",
   "name": "python",
   "nbconvert_exporter": "python",
   "pygments_lexer": "ipython2",
   "version": "2.7.10"
  }
 },
 "nbformat": 4,
 "nbformat_minor": 0
}
