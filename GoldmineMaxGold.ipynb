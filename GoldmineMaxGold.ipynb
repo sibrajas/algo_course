{
 "cells": [
  {
   "cell_type": "code",
   "execution_count": 44,
   "metadata": {
    "collapsed": false
   },
   "outputs": [
    {
     "name": "stdout",
     "output_type": "stream",
     "text": [
      "16\n",
      "[[1, 3, 1, 5], [2, 2, 4, 1], [5, 0, 2, 3], [0, 6, 1, 2]]\n",
      "[[13, 12, 6, 5], [14, 11, 9, 1], [16, 9, 5, 3], [11, 11, 4, 2]]\n"
     ]
    }
   ],
   "source": [
    "class goldmine:\n",
    "    def __init__(self,goldmine):\n",
    "        self.goldmine=goldmine\n",
    "        self.rows=len(goldmine)\n",
    "        self.cols=len(goldmine[0])\n",
    "        self.goldminetable=[[0 for x in range(self.cols)] for y in range(self.rows)]\n",
    "\n",
    "    def getmax(self):\n",
    "        for j in reversed(range(self.cols)):\n",
    "            for i in range(self.rows):\n",
    "                right= 0 if (j==self.cols-1) else self.goldminetable[i][j+1]\n",
    "                rightup= 0 if (j==self.cols-1 or i==0) else self.goldminetable[i-1][j+1]\n",
    "                rightdown= 0 if (j==self.cols-1 or i==self.rows-1) else self.goldminetable[i+1][j+1]\n",
    "                localmax=max(right,rightup,rightdown)\n",
    "                self.goldminetable[i][j]=localmax+self.goldmine[i][j]\n",
    "        maxval=0\n",
    "        for i in range(self.rows):\n",
    "            maxval=self.goldminetable[i][0] if maxval<self.goldminetable[i][0] else maxval\n",
    "        print maxval\n",
    "        print self.goldmine\n",
    "        print self.goldminetable\n",
    "if __name__==\"__main__\":\n",
    "    mine=[[x+y for x in range(5)] for y in range(7)]\n",
    "    mine =    [[ 1, 3, 1, 5 ], \n",
    "                        [ 2, 2, 4, 1 ], \n",
    "                        [ 5, 0, 2, 3 ],\n",
    "                        [ 0, 6, 1, 2 ] ];\n",
    "    gm=goldmine(mine)\n",
    "    gm.getmax()\n"
   ]
  },
  {
   "cell_type": "code",
   "execution_count": null,
   "metadata": {
    "collapsed": true
   },
   "outputs": [],
   "source": []
  }
 ],
 "metadata": {
  "kernelspec": {
   "display_name": "Python 2",
   "language": "python",
   "name": "python2"
  },
  "language_info": {
   "codemirror_mode": {
    "name": "ipython",
    "version": 2
   },
   "file_extension": ".py",
   "mimetype": "text/x-python",
   "name": "python",
   "nbconvert_exporter": "python",
   "pygments_lexer": "ipython2",
   "version": "2.7.10"
  }
 },
 "nbformat": 4,
 "nbformat_minor": 0
}
